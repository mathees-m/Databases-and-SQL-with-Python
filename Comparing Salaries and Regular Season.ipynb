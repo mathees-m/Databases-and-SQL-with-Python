{
 "cells": [
  {
   "cell_type": "code",
   "execution_count": 1,
   "id": "c4bff1ff",
   "metadata": {},
   "outputs": [],
   "source": [
    "%load_ext sql\n",
    "%sql sqlite:///nbastats.db"
   ]
  },
  {
   "cell_type": "code",
   "execution_count": 2,
   "id": "120b721a",
   "metadata": {},
   "outputs": [
    {
     "name": "stdout",
     "output_type": "stream",
     "text": [
      " * sqlite:///nbastats.db\n",
      "Done.\n"
     ]
    },
    {
     "data": {
      "text/html": [
       "<table>\n",
       "    <tr>\n",
       "        <th>name</th>\n",
       "    </tr>\n",
       "    <tr>\n",
       "        <td>advanced_stats</td>\n",
       "    </tr>\n",
       "    <tr>\n",
       "        <td>allgames_stats</td>\n",
       "    </tr>\n",
       "    <tr>\n",
       "        <td>allstar_games_stats</td>\n",
       "    </tr>\n",
       "    <tr>\n",
       "        <td>game_highs_stats</td>\n",
       "    </tr>\n",
       "    <tr>\n",
       "        <td>per_game_stats</td>\n",
       "    </tr>\n",
       "    <tr>\n",
       "        <td>salaries</td>\n",
       "    </tr>\n",
       "    <tr>\n",
       "        <td>totals_stats</td>\n",
       "    </tr>\n",
       "</table>"
      ],
      "text/plain": [
       "[('advanced_stats',),\n",
       " ('allgames_stats',),\n",
       " ('allstar_games_stats',),\n",
       " ('game_highs_stats',),\n",
       " ('per_game_stats',),\n",
       " ('salaries',),\n",
       " ('totals_stats',)]"
      ]
     },
     "execution_count": 2,
     "metadata": {},
     "output_type": "execute_result"
    }
   ],
   "source": [
    "%%sql \n",
    "SELECT name FROM sqlite_master\n",
    "WHERE type='table'"
   ]
  },
  {
   "cell_type": "code",
   "execution_count": 3,
   "id": "d020b50e",
   "metadata": {},
   "outputs": [
    {
     "name": "stdout",
     "output_type": "stream",
     "text": [
      " * sqlite:///nbastats.db\n",
      "Done.\n"
     ]
    },
    {
     "data": {
      "text/html": [
       "<table>\n",
       "    <tr>\n",
       "        <th>Player</th>\n",
       "        <th>Season</th>\n",
       "        <th>Highest_Salary_USD</th>\n",
       "    </tr>\n",
       "    <tr>\n",
       "        <td>Lebron James</td>\n",
       "        <td>2017-18</td>\n",
       "        <td>33285709.0</td>\n",
       "    </tr>\n",
       "    <tr>\n",
       "        <td>Michael Jordan</td>\n",
       "        <td>1997-98</td>\n",
       "        <td>33140000.0</td>\n",
       "    </tr>\n",
       "    <tr>\n",
       "        <td>Kobe Bryant</td>\n",
       "        <td>2013-14</td>\n",
       "        <td>30453805.0</td>\n",
       "    </tr>\n",
       "</table>"
      ],
      "text/plain": [
       "[('Lebron James', '2017-18', 33285709.0),\n",
       " ('Michael Jordan', '1997-98', 33140000.0),\n",
       " ('Kobe Bryant', '2013-14', 30453805.0)]"
      ]
     },
     "execution_count": 3,
     "metadata": {},
     "output_type": "execute_result"
    }
   ],
   "source": [
    "%%sql\n",
    "/*Find the highest salary earned by each player in a single season*/\n",
    "\n",
    "SELECT Player, Season, MAX(CAST(REPLACE(Salary,'$','') AS DOUBLE)) as Highest_Salary_USD \n",
    "FROM salaries\n",
    "GROUP BY Player\n",
    "ORDER BY Highest_Salary_USD DESC;\n"
   ]
  },
  {
   "cell_type": "code",
   "execution_count": 4,
   "id": "b5d13614",
   "metadata": {},
   "outputs": [
    {
     "name": "stdout",
     "output_type": "stream",
     "text": [
      " * sqlite:///nbastats.db\n",
      "Done.\n"
     ]
    },
    {
     "data": {
      "text/html": [
       "<table>\n",
       "    <tr>\n",
       "        <th>Player</th>\n",
       "        <th>Season</th>\n",
       "        <th>Lowest_Salary_USD</th>\n",
       "    </tr>\n",
       "    <tr>\n",
       "        <td>Lebron James</td>\n",
       "        <td>2003-04</td>\n",
       "        <td>4018920.0</td>\n",
       "    </tr>\n",
       "    <tr>\n",
       "        <td>Kobe Bryant</td>\n",
       "        <td>1996-97</td>\n",
       "        <td>1015000.0</td>\n",
       "    </tr>\n",
       "    <tr>\n",
       "        <td>Michael Jordan</td>\n",
       "        <td>1984-85</td>\n",
       "        <td>550000.0</td>\n",
       "    </tr>\n",
       "</table>"
      ],
      "text/plain": [
       "[('Lebron James', '2003-04', 4018920.0),\n",
       " ('Kobe Bryant', '1996-97', 1015000.0),\n",
       " ('Michael Jordan', '1984-85', 550000.0)]"
      ]
     },
     "execution_count": 4,
     "metadata": {},
     "output_type": "execute_result"
    }
   ],
   "source": [
    "%%sql\n",
    "/*Find the lowest salary earned by each player in a single season*/\n",
    "\n",
    "SELECT Player, Season, MIN(CAST(REPLACE(Salary,'$','') AS DOUBLE)) as Lowest_Salary_USD \n",
    "FROM salaries\n",
    "GROUP BY Player\n",
    "ORDER BY Lowest_Salary_USD DESC;"
   ]
  },
  {
   "cell_type": "code",
   "execution_count": 5,
   "id": "a32b4cf6",
   "metadata": {},
   "outputs": [
    {
     "name": "stdout",
     "output_type": "stream",
     "text": [
      " * sqlite:///nbastats.db\n",
      "Done.\n"
     ]
    },
    {
     "data": {
      "text/html": [
       "<table>\n",
       "    <tr>\n",
       "        <th>Player</th>\n",
       "        <th>Total_Earned_USD</th>\n",
       "    </tr>\n",
       "    <tr>\n",
       "        <td>Kobe Bryant</td>\n",
       "        <td>328238062.0</td>\n",
       "    </tr>\n",
       "    <tr>\n",
       "        <td>Lebron James</td>\n",
       "        <td>237020472.0</td>\n",
       "    </tr>\n",
       "    <tr>\n",
       "        <td>Michael Jordan</td>\n",
       "        <td>93285000.0</td>\n",
       "    </tr>\n",
       "</table>"
      ],
      "text/plain": [
       "[('Kobe Bryant', 328238062.0),\n",
       " ('Lebron James', 237020472.0),\n",
       " ('Michael Jordan', 93285000.0)]"
      ]
     },
     "execution_count": 5,
     "metadata": {},
     "output_type": "execute_result"
    }
   ],
   "source": [
    "%%sql\n",
    "/*Find the total salary earned by each player*/\n",
    "\n",
    "SELECT Player, SUM(CAST(REPLACE(Salary,'$','') AS DOUBLE)) as Total_Earned_USD\n",
    "FROM salaries\n",
    "GROUP BY PLAYER\n",
    "ORDER BY Total_Earned_USD DESC;"
   ]
  },
  {
   "cell_type": "code",
   "execution_count": 6,
   "id": "0e2e4b70",
   "metadata": {},
   "outputs": [
    {
     "name": "stdout",
     "output_type": "stream",
     "text": [
      " * sqlite:///nbastats.db\n",
      "Done.\n"
     ]
    },
    {
     "data": {
      "text/html": [
       "<table>\n",
       "    <tr>\n",
       "        <th>average_salary_USD</th>\n",
       "    </tr>\n",
       "    <tr>\n",
       "        <td>13170870.68</td>\n",
       "    </tr>\n",
       "</table>"
      ],
      "text/plain": [
       "[(13170870.68,)]"
      ]
     },
     "execution_count": 6,
     "metadata": {},
     "output_type": "execute_result"
    }
   ],
   "source": [
    "%%sql\n",
    "/*Find the average of all the salaries*/\n",
    "\n",
    "SELECT AVG(CAST(REPLACE(Salary,'$','') AS DOUBLE)) as average_salary_USD\n",
    "FROM salaries;"
   ]
  },
  {
   "cell_type": "code",
   "execution_count": 7,
   "id": "5d15837a",
   "metadata": {},
   "outputs": [
    {
     "name": "stdout",
     "output_type": "stream",
     "text": [
      " * sqlite:///nbastats.db\n",
      "Done.\n"
     ]
    },
    {
     "data": {
      "text/html": [
       "<table>\n",
       "    <tr>\n",
       "        <th>Player</th>\n",
       "        <th>Season</th>\n",
       "        <th>Salary</th>\n",
       "    </tr>\n",
       "    <tr>\n",
       "        <td>Lebron James</td>\n",
       "        <td>2003-04</td>\n",
       "        <td>$4018920</td>\n",
       "    </tr>\n",
       "    <tr>\n",
       "        <td>Lebron James</td>\n",
       "        <td>2004-05</td>\n",
       "        <td>$4320360</td>\n",
       "    </tr>\n",
       "    <tr>\n",
       "        <td>Lebron James</td>\n",
       "        <td>2005-06</td>\n",
       "        <td>$4621800</td>\n",
       "    </tr>\n",
       "    <tr>\n",
       "        <td>Lebron James</td>\n",
       "        <td>2006-07</td>\n",
       "        <td>$5828090</td>\n",
       "    </tr>\n",
       "    <tr>\n",
       "        <td>Lebron James</td>\n",
       "        <td>2007-08</td>\n",
       "        <td>$13041250</td>\n",
       "    </tr>\n",
       "    <tr>\n",
       "        <td>Michael Jordan</td>\n",
       "        <td>1984-85</td>\n",
       "        <td>$550000</td>\n",
       "    </tr>\n",
       "    <tr>\n",
       "        <td>Michael Jordan</td>\n",
       "        <td>1985-86</td>\n",
       "        <td>$630000</td>\n",
       "    </tr>\n",
       "    <tr>\n",
       "        <td>Michael Jordan</td>\n",
       "        <td>1987-88</td>\n",
       "        <td>$845000</td>\n",
       "    </tr>\n",
       "    <tr>\n",
       "        <td>Michael Jordan</td>\n",
       "        <td>1988-89</td>\n",
       "        <td>$2000000</td>\n",
       "    </tr>\n",
       "    <tr>\n",
       "        <td>Michael Jordan</td>\n",
       "        <td>1989-90</td>\n",
       "        <td>$2500000</td>\n",
       "    </tr>\n",
       "    <tr>\n",
       "        <td>Michael Jordan</td>\n",
       "        <td>1990-91</td>\n",
       "        <td>$2500000</td>\n",
       "    </tr>\n",
       "    <tr>\n",
       "        <td>Michael Jordan</td>\n",
       "        <td>1991-92</td>\n",
       "        <td>$3250000</td>\n",
       "    </tr>\n",
       "    <tr>\n",
       "        <td>Michael Jordan</td>\n",
       "        <td>1992-93</td>\n",
       "        <td>$4000000</td>\n",
       "    </tr>\n",
       "    <tr>\n",
       "        <td>Michael Jordan</td>\n",
       "        <td>1993-94</td>\n",
       "        <td>$4000000</td>\n",
       "    </tr>\n",
       "    <tr>\n",
       "        <td>Michael Jordan</td>\n",
       "        <td>1994-95</td>\n",
       "        <td>$3850000</td>\n",
       "    </tr>\n",
       "    <tr>\n",
       "        <td>Michael Jordan</td>\n",
       "        <td>1995-96</td>\n",
       "        <td>$3850000</td>\n",
       "    </tr>\n",
       "    <tr>\n",
       "        <td>Michael Jordan</td>\n",
       "        <td>2001-02</td>\n",
       "        <td>$1000000</td>\n",
       "    </tr>\n",
       "    <tr>\n",
       "        <td>Michael Jordan</td>\n",
       "        <td>2002-03</td>\n",
       "        <td>$1030000</td>\n",
       "    </tr>\n",
       "    <tr>\n",
       "        <td>Kobe Bryant</td>\n",
       "        <td>1996-97</td>\n",
       "        <td>$1015000</td>\n",
       "    </tr>\n",
       "    <tr>\n",
       "        <td>Kobe Bryant</td>\n",
       "        <td>1997-98</td>\n",
       "        <td>$1167240</td>\n",
       "    </tr>\n",
       "    <tr>\n",
       "        <td>Kobe Bryant</td>\n",
       "        <td>1998-99</td>\n",
       "        <td>$1319000</td>\n",
       "    </tr>\n",
       "    <tr>\n",
       "        <td>Kobe Bryant</td>\n",
       "        <td>1999-00</td>\n",
       "        <td>$9000000</td>\n",
       "    </tr>\n",
       "    <tr>\n",
       "        <td>Kobe Bryant</td>\n",
       "        <td>2000-01</td>\n",
       "        <td>$10130000</td>\n",
       "    </tr>\n",
       "    <tr>\n",
       "        <td>Kobe Bryant</td>\n",
       "        <td>2001-02</td>\n",
       "        <td>$11250000</td>\n",
       "    </tr>\n",
       "    <tr>\n",
       "        <td>Kobe Bryant</td>\n",
       "        <td>2002-03</td>\n",
       "        <td>$12375000</td>\n",
       "    </tr>\n",
       "</table>"
      ],
      "text/plain": [
       "[('Lebron James', '2003-04', '$4018920'),\n",
       " ('Lebron James', '2004-05', '$4320360'),\n",
       " ('Lebron James', '2005-06', '$4621800'),\n",
       " ('Lebron James', '2006-07', '$5828090'),\n",
       " ('Lebron James', '2007-08', '$13041250'),\n",
       " ('Michael Jordan', '1984-85', '$550000'),\n",
       " ('Michael Jordan', '1985-86', '$630000'),\n",
       " ('Michael Jordan', '1987-88', '$845000'),\n",
       " ('Michael Jordan', '1988-89', '$2000000'),\n",
       " ('Michael Jordan', '1989-90', '$2500000'),\n",
       " ('Michael Jordan', '1990-91', '$2500000'),\n",
       " ('Michael Jordan', '1991-92', '$3250000'),\n",
       " ('Michael Jordan', '1992-93', '$4000000'),\n",
       " ('Michael Jordan', '1993-94', '$4000000'),\n",
       " ('Michael Jordan', '1994-95', '$3850000'),\n",
       " ('Michael Jordan', '1995-96', '$3850000'),\n",
       " ('Michael Jordan', '2001-02', '$1000000'),\n",
       " ('Michael Jordan', '2002-03', '$1030000'),\n",
       " ('Kobe Bryant', '1996-97', '$1015000'),\n",
       " ('Kobe Bryant', '1997-98', '$1167240'),\n",
       " ('Kobe Bryant', '1998-99', '$1319000'),\n",
       " ('Kobe Bryant', '1999-00', '$9000000'),\n",
       " ('Kobe Bryant', '2000-01', '$10130000'),\n",
       " ('Kobe Bryant', '2001-02', '$11250000'),\n",
       " ('Kobe Bryant', '2002-03', '$12375000')]"
      ]
     },
     "execution_count": 7,
     "metadata": {},
     "output_type": "execute_result"
    }
   ],
   "source": [
    "%%sql\n",
    "/*Find all salaries that are less than the average salaries*/\n",
    "\n",
    "SELECT Player,Season,Salary FROM salaries\n",
    "WHERE CAST(REPLACE(Salary,'$','') AS DOUBLE) < (SELECT AVG(CAST(REPLACE(Salary,'$','') AS DOUBLE)) \n",
    "                                                FROM salaries)\n"
   ]
  },
  {
   "cell_type": "code",
   "execution_count": 8,
   "id": "e71fbe62",
   "metadata": {},
   "outputs": [
    {
     "name": "stdout",
     "output_type": "stream",
     "text": [
      " * sqlite:///nbastats.db\n",
      "Done.\n"
     ]
    },
    {
     "data": {
      "text/html": [
       "<table>\n",
       "    <tr>\n",
       "        <th>Player</th>\n",
       "        <th>Seasons_Played</th>\n",
       "        <th>Average_Earned</th>\n",
       "    </tr>\n",
       "    <tr>\n",
       "        <td>Kobe Bryant</td>\n",
       "        <td>20</td>\n",
       "        <td>16411903.1</td>\n",
       "    </tr>\n",
       "    <tr>\n",
       "        <td>Lebron James</td>\n",
       "        <td>15</td>\n",
       "        <td>15801364.8</td>\n",
       "    </tr>\n",
       "    <tr>\n",
       "        <td>Michael Jordan</td>\n",
       "        <td>15</td>\n",
       "        <td>6219000.0</td>\n",
       "    </tr>\n",
       "</table>"
      ],
      "text/plain": [
       "[('Kobe Bryant', 20, 16411903.1),\n",
       " ('Lebron James', 15, 15801364.8),\n",
       " ('Michael Jordan', 15, 6219000.0)]"
      ]
     },
     "execution_count": 8,
     "metadata": {},
     "output_type": "execute_result"
    }
   ],
   "source": [
    "%%sql\n",
    "/*What is the average earned by each player*/\n",
    "\n",
    "SELECT Player, COUNT(Season) as Seasons_Played, (SUM(CAST(REPLACE(Salary,'$','') AS DOUBLE))/COUNT(Season)) \n",
    "AS Average_Earned\n",
    "FROM salaries\n",
    "GROUP BY Player\n",
    "ORDER BY Average_Earned DESC;"
   ]
  },
  {
   "cell_type": "code",
   "execution_count": 9,
   "id": "540d5d2c",
   "metadata": {},
   "outputs": [
    {
     "name": "stdout",
     "output_type": "stream",
     "text": [
      " * sqlite:///nbastats.db\n",
      "Done.\n"
     ]
    },
    {
     "data": {
      "text/html": [
       "<table>\n",
       "    <tr>\n",
       "        <th>Player</th>\n",
       "        <th>PTS</th>\n",
       "    </tr>\n",
       "    <tr>\n",
       "        <td>Michael Jordan</td>\n",
       "        <td>37.1</td>\n",
       "    </tr>\n",
       "    <tr>\n",
       "        <td>Kobe Bryant</td>\n",
       "        <td>35.4</td>\n",
       "    </tr>\n",
       "    <tr>\n",
       "        <td>Michael Jordan</td>\n",
       "        <td>35</td>\n",
       "    </tr>\n",
       "    <tr>\n",
       "        <td>Michael Jordan</td>\n",
       "        <td>33.6</td>\n",
       "    </tr>\n",
       "    <tr>\n",
       "        <td>Michael Jordan</td>\n",
       "        <td>32.6</td>\n",
       "    </tr>\n",
       "    <tr>\n",
       "        <td>Michael Jordan</td>\n",
       "        <td>32.5</td>\n",
       "    </tr>\n",
       "    <tr>\n",
       "        <td>Kobe Bryant</td>\n",
       "        <td>31.6</td>\n",
       "    </tr>\n",
       "    <tr>\n",
       "        <td>Michael Jordan</td>\n",
       "        <td>31.5</td>\n",
       "    </tr>\n",
       "    <tr>\n",
       "        <td>Lebron James</td>\n",
       "        <td>31.4</td>\n",
       "    </tr>\n",
       "    <tr>\n",
       "        <td>Michael Jordan</td>\n",
       "        <td>30.4</td>\n",
       "    </tr>\n",
       "</table>"
      ],
      "text/plain": [
       "[('Michael Jordan', 37.1),\n",
       " ('Kobe Bryant', 35.4),\n",
       " ('Michael Jordan', 35),\n",
       " ('Michael Jordan', 33.6),\n",
       " ('Michael Jordan', 32.6),\n",
       " ('Michael Jordan', 32.5),\n",
       " ('Kobe Bryant', 31.6),\n",
       " ('Michael Jordan', 31.5),\n",
       " ('Lebron James', 31.4),\n",
       " ('Michael Jordan', 30.4)]"
      ]
     },
     "execution_count": 9,
     "metadata": {},
     "output_type": "execute_result"
    }
   ],
   "source": [
    "%%sql\n",
    "/*Retrieve the 10 highest scoring average in the regular season*/\n",
    "\n",
    "SELECT Player, PTS FROM Per_game_stats\n",
    "WHERE RSorPO = 'Regular Season' \n",
    "ORDER BY PTS DESC \n",
    "LIMIT 10;\n"
   ]
  },
  {
   "cell_type": "code",
   "execution_count": 10,
   "id": "eca0d682",
   "metadata": {},
   "outputs": [
    {
     "name": "stdout",
     "output_type": "stream",
     "text": [
      " * sqlite:///nbastats.db\n",
      "Done.\n"
     ]
    },
    {
     "data": {
      "text/html": [
       "<table>\n",
       "    <tr>\n",
       "        <th>Player</th>\n",
       "        <th>Pts_in_top10</th>\n",
       "    </tr>\n",
       "    <tr>\n",
       "        <td>Michael Jordan</td>\n",
       "        <td>7</td>\n",
       "    </tr>\n",
       "    <tr>\n",
       "        <td>Kobe Bryant</td>\n",
       "        <td>2</td>\n",
       "    </tr>\n",
       "    <tr>\n",
       "        <td>Lebron James</td>\n",
       "        <td>1</td>\n",
       "    </tr>\n",
       "</table>"
      ],
      "text/plain": [
       "[('Michael Jordan', 7), ('Kobe Bryant', 2), ('Lebron James', 1)]"
      ]
     },
     "execution_count": 10,
     "metadata": {},
     "output_type": "execute_result"
    }
   ],
   "source": [
    "%%sql \n",
    "/*Which player is shown the most in the 10 highest scoring average in the regular season*/\n",
    "\n",
    "SELECT Player, COUNT(PTS) as Pts_in_top10 FROM (SELECT Player, PTS FROM Per_game_stats \n",
    "     WHERE RSorPO = 'Regular Season' \n",
    "     ORDER BY PTS DESC \n",
    "     LIMIT 10)\n",
    "GROUP BY PLAYER\n",
    "ORDER BY Pts_in_top10 DESC;\n"
   ]
  },
  {
   "cell_type": "code",
   "execution_count": 11,
   "id": "87371aa1",
   "metadata": {},
   "outputs": [
    {
     "name": "stdout",
     "output_type": "stream",
     "text": [
      " * sqlite:///nbastats.db\n",
      "Done.\n"
     ]
    },
    {
     "data": {
      "text/html": [
       "<table>\n",
       "    <tr>\n",
       "        <th>BPM</th>\n",
       "        <th>Season</th>\n",
       "        <th>Age</th>\n",
       "        <th>Tm</th>\n",
       "        <th>Lg</th>\n",
       "        <th>Pos</th>\n",
       "        <th>G</th>\n",
       "        <th>GS</th>\n",
       "        <th>MP</th>\n",
       "        <th>FG</th>\n",
       "        <th>FGA</th>\n",
       "        <th>FG%</th>\n",
       "        <th>3P</th>\n",
       "        <th>3PA</th>\n",
       "        <th>3P%</th>\n",
       "        <th>2P</th>\n",
       "        <th>2PA</th>\n",
       "        <th>2P%</th>\n",
       "        <th>eFG%</th>\n",
       "        <th>FT</th>\n",
       "        <th>FTA</th>\n",
       "        <th>FT%</th>\n",
       "        <th>ORB</th>\n",
       "        <th>DRB</th>\n",
       "        <th>TRB</th>\n",
       "        <th>AST</th>\n",
       "        <th>STL</th>\n",
       "        <th>BLK</th>\n",
       "        <th>TOV</th>\n",
       "        <th>PF</th>\n",
       "        <th>PTS</th>\n",
       "        <th>Player</th>\n",
       "        <th>RSorPO</th>\n",
       "    </tr>\n",
       "    <tr>\n",
       "        <td>12.6</td>\n",
       "        <td>1988-89</td>\n",
       "        <td>25</td>\n",
       "        <td>CHI</td>\n",
       "        <td>NBA</td>\n",
       "        <td>SG</td>\n",
       "        <td>81</td>\n",
       "        <td>81</td>\n",
       "        <td>40.2</td>\n",
       "        <td>11.9</td>\n",
       "        <td>22.2</td>\n",
       "        <td>0.54</td>\n",
       "        <td>0.3</td>\n",
       "        <td>1.2</td>\n",
       "        <td>0.25</td>\n",
       "        <td>11.6</td>\n",
       "        <td>21.0</td>\n",
       "        <td>0.553</td>\n",
       "        <td>0.546</td>\n",
       "        <td>8.3</td>\n",
       "        <td>9.8</td>\n",
       "        <td>0.85</td>\n",
       "        <td>1.8</td>\n",
       "        <td>6.2</td>\n",
       "        <td>8.0</td>\n",
       "        <td>8.0</td>\n",
       "        <td>2.9</td>\n",
       "        <td>0.8</td>\n",
       "        <td>3.6</td>\n",
       "        <td>3.0</td>\n",
       "        <td>32.5</td>\n",
       "        <td>Michael Jordan</td>\n",
       "        <td>Regular Season</td>\n",
       "    </tr>\n",
       "</table>"
      ],
      "text/plain": [
       "[(12.6, '1988-89', 25, 'CHI', 'NBA', 'SG', 81, 81, 40.2, 11.9, 22.2, 0.54, 0.3, 1.2, 0.25, 11.6, 21.0, 0.553, 0.546, 8.3, 9.8, 0.85, 1.8, 6.2, 8.0, 8.0, 2.9, 0.8, 3.6, 3.0, 32.5, 'Michael Jordan', 'Regular Season')]"
      ]
     },
     "execution_count": 11,
     "metadata": {},
     "output_type": "execute_result"
    }
   ],
   "source": [
    "%%sql\n",
    "/*Find Michael Jordans highest box plus-minus(BPM)\n",
    "and compare it to his stats*/\n",
    "\n",
    "SELECT ADS.BPM,PGS.* FROM per_game_stats PGS,advanced_stats ADS \n",
    "WHERE \n",
    "    PGS.Season = ADS.Season \n",
    "    AND PGS.Player = ADS.Player\n",
    "    AND PGS.RSorPO = ADS.RSorPO\n",
    "    AND ADS.BPM = (\n",
    "                   SELECT MAX(BPM) FROM advanced_stats\n",
    "                   WHERE Player = 'Michael Jordan' AND RSorPO = 'Regular Season');\n"
   ]
  },
  {
   "cell_type": "code",
   "execution_count": 12,
   "id": "ea6ef991",
   "metadata": {},
   "outputs": [
    {
     "name": "stdout",
     "output_type": "stream",
     "text": [
      " * sqlite:///nbastats.db\n",
      "Done.\n"
     ]
    },
    {
     "data": {
      "text/html": [
       "<table>\n",
       "    <tr>\n",
       "        <th>Season</th>\n",
       "        <th>Player</th>\n",
       "        <th>Salary</th>\n",
       "        <th>BPM</th>\n",
       "    </tr>\n",
       "    <tr>\n",
       "        <td>1988-89</td>\n",
       "        <td>Michael Jordan</td>\n",
       "        <td>$2000000</td>\n",
       "        <td>12.6</td>\n",
       "    </tr>\n",
       "</table>"
      ],
      "text/plain": [
       "[('1988-89', 'Michael Jordan', '$2000000', 12.6)]"
      ]
     },
     "execution_count": 12,
     "metadata": {},
     "output_type": "execute_result"
    }
   ],
   "source": [
    "%%sql\n",
    "/*How much did Michael Jordan make at his highest BPM*/\n",
    "\n",
    "SELECT S.Season,S.Player, S.Salary, ADS.BPM FROM salaries S, advanced_stats ADS\n",
    "WHERE\n",
    "    S.Season = ADS.Season\n",
    "    AND ADS.Player = S.Player\n",
    "    AND ADS.RSorPO = 'Regular Season'\n",
    "    AND ADS.BPM = (\n",
    "                   SELECT MAX(BPM) FROM advanced_stats\n",
    "                   WHERE Player = 'Michael Jordan' AND RSorPO = 'Regular Season');\n"
   ]
  },
  {
   "cell_type": "code",
   "execution_count": 13,
   "id": "cc42d7a8",
   "metadata": {},
   "outputs": [
    {
     "name": "stdout",
     "output_type": "stream",
     "text": [
      " * sqlite:///nbastats.db\n",
      "Done.\n"
     ]
    },
    {
     "data": {
      "text/html": [
       "<table>\n",
       "    <tr>\n",
       "        <th>BPM</th>\n",
       "        <th>Season</th>\n",
       "        <th>Age</th>\n",
       "        <th>Tm</th>\n",
       "        <th>Lg</th>\n",
       "        <th>Pos</th>\n",
       "        <th>G</th>\n",
       "        <th>GS</th>\n",
       "        <th>MP</th>\n",
       "        <th>FG</th>\n",
       "        <th>FGA</th>\n",
       "        <th>FG%</th>\n",
       "        <th>3P</th>\n",
       "        <th>3PA</th>\n",
       "        <th>3P%</th>\n",
       "        <th>2P</th>\n",
       "        <th>2PA</th>\n",
       "        <th>2P%</th>\n",
       "        <th>eFG%</th>\n",
       "        <th>FT</th>\n",
       "        <th>FTA</th>\n",
       "        <th>FT%</th>\n",
       "        <th>ORB</th>\n",
       "        <th>DRB</th>\n",
       "        <th>TRB</th>\n",
       "        <th>AST</th>\n",
       "        <th>STL</th>\n",
       "        <th>BLK</th>\n",
       "        <th>TOV</th>\n",
       "        <th>PF</th>\n",
       "        <th>PTS</th>\n",
       "        <th>Player</th>\n",
       "        <th>RSorPO</th>\n",
       "    </tr>\n",
       "    <tr>\n",
       "        <td>6.4</td>\n",
       "        <td>2002-03</td>\n",
       "        <td>24</td>\n",
       "        <td>LAL</td>\n",
       "        <td>NBA</td>\n",
       "        <td>SG</td>\n",
       "        <td>82</td>\n",
       "        <td>82</td>\n",
       "        <td>41.5</td>\n",
       "        <td>10.6</td>\n",
       "        <td>23.5</td>\n",
       "        <td>0.45</td>\n",
       "        <td>1.5</td>\n",
       "        <td>4</td>\n",
       "        <td>0.38</td>\n",
       "        <td>9.1</td>\n",
       "        <td>19.5</td>\n",
       "        <td>0.465</td>\n",
       "        <td>0.483</td>\n",
       "        <td>7.3</td>\n",
       "        <td>8.7</td>\n",
       "        <td>0.84</td>\n",
       "        <td>1.3</td>\n",
       "        <td>5.6</td>\n",
       "        <td>6.9</td>\n",
       "        <td>5.9</td>\n",
       "        <td>2.2</td>\n",
       "        <td>0.8</td>\n",
       "        <td>3.5</td>\n",
       "        <td>2.7</td>\n",
       "        <td>30</td>\n",
       "        <td>Kobe Bryant</td>\n",
       "        <td>Regular Season</td>\n",
       "    </tr>\n",
       "</table>"
      ],
      "text/plain": [
       "[(6.4, '2002-03', 24, 'LAL', 'NBA', 'SG', 82, 82, 41.5, 10.6, 23.5, 0.45, 1.5, 4, 0.38, 9.1, 19.5, 0.465, 0.483, 7.3, 8.7, 0.84, 1.3, 5.6, 6.9, 5.9, 2.2, 0.8, 3.5, 2.7, 30, 'Kobe Bryant', 'Regular Season')]"
      ]
     },
     "execution_count": 13,
     "metadata": {},
     "output_type": "execute_result"
    }
   ],
   "source": [
    "%%sql\n",
    "/*Find Kobe Bryants highest box plus-minus(BPM)\n",
    "and compare it to his stats*/\n",
    "\n",
    "SELECT ADS.BPM,PGS.* FROM per_game_stats PGS,advanced_stats ADS \n",
    "WHERE \n",
    "    PGS.Season = ADS.Season \n",
    "    AND PGS.Player = ADS.Player\n",
    "    AND PGS.RSorPO = ADS.RSorPO\n",
    "    AND ADS.BPM = (\n",
    "                   SELECT MAX(BPM) FROM advanced_stats\n",
    "                   WHERE Player = 'Kobe Bryant' AND RSorPO = 'Regular Season');"
   ]
  },
  {
   "cell_type": "code",
   "execution_count": 14,
   "id": "323fb08e",
   "metadata": {},
   "outputs": [
    {
     "name": "stdout",
     "output_type": "stream",
     "text": [
      " * sqlite:///nbastats.db\n",
      "Done.\n"
     ]
    },
    {
     "data": {
      "text/html": [
       "<table>\n",
       "    <tr>\n",
       "        <th>Season</th>\n",
       "        <th>Player</th>\n",
       "        <th>Salary</th>\n",
       "        <th>BPM</th>\n",
       "    </tr>\n",
       "    <tr>\n",
       "        <td>2002-03</td>\n",
       "        <td>Kobe Bryant</td>\n",
       "        <td>$12375000</td>\n",
       "        <td>6.4</td>\n",
       "    </tr>\n",
       "</table>"
      ],
      "text/plain": [
       "[('2002-03', 'Kobe Bryant', '$12375000', 6.4)]"
      ]
     },
     "execution_count": 14,
     "metadata": {},
     "output_type": "execute_result"
    }
   ],
   "source": [
    "%%sql\n",
    "/*How much did Kobe Bryant make at his highest BPM*/\n",
    "\n",
    "SELECT S.Season,S.Player, S.Salary, ADS.BPM FROM salaries S, advanced_stats ADS\n",
    "WHERE\n",
    "    S.Season = ADS.Season\n",
    "    AND ADS.Player = S.Player\n",
    "    AND ADS.RSorPO = 'Regular Season'\n",
    "    AND ADS.BPM = (\n",
    "                   SELECT MAX(BPM) FROM advanced_stats\n",
    "                   WHERE Player = 'Kobe Bryant' AND RSorPO = 'Regular Season');\n"
   ]
  },
  {
   "cell_type": "code",
   "execution_count": 15,
   "id": "bafb5e3a",
   "metadata": {},
   "outputs": [
    {
     "name": "stdout",
     "output_type": "stream",
     "text": [
      " * sqlite:///nbastats.db\n",
      "Done.\n"
     ]
    },
    {
     "data": {
      "text/html": [
       "<table>\n",
       "    <tr>\n",
       "        <th>BPM</th>\n",
       "        <th>Season</th>\n",
       "        <th>Age</th>\n",
       "        <th>Tm</th>\n",
       "        <th>Lg</th>\n",
       "        <th>Pos</th>\n",
       "        <th>G</th>\n",
       "        <th>GS</th>\n",
       "        <th>MP</th>\n",
       "        <th>FG</th>\n",
       "        <th>FGA</th>\n",
       "        <th>FG%</th>\n",
       "        <th>3P</th>\n",
       "        <th>3PA</th>\n",
       "        <th>3P%</th>\n",
       "        <th>2P</th>\n",
       "        <th>2PA</th>\n",
       "        <th>2P%</th>\n",
       "        <th>eFG%</th>\n",
       "        <th>FT</th>\n",
       "        <th>FTA</th>\n",
       "        <th>FT%</th>\n",
       "        <th>ORB</th>\n",
       "        <th>DRB</th>\n",
       "        <th>TRB</th>\n",
       "        <th>AST</th>\n",
       "        <th>STL</th>\n",
       "        <th>BLK</th>\n",
       "        <th>TOV</th>\n",
       "        <th>PF</th>\n",
       "        <th>PTS</th>\n",
       "        <th>Player</th>\n",
       "        <th>RSorPO</th>\n",
       "    </tr>\n",
       "    <tr>\n",
       "        <td>13.0</td>\n",
       "        <td>2008-09</td>\n",
       "        <td>24</td>\n",
       "        <td>CLE</td>\n",
       "        <td>NBA</td>\n",
       "        <td>SF</td>\n",
       "        <td>81</td>\n",
       "        <td>81</td>\n",
       "        <td>37.7</td>\n",
       "        <td>9.7</td>\n",
       "        <td>19.9</td>\n",
       "        <td>0.49</td>\n",
       "        <td>1.6</td>\n",
       "        <td>4.7</td>\n",
       "        <td>0.34</td>\n",
       "        <td>8.1</td>\n",
       "        <td>15.2</td>\n",
       "        <td>0.535</td>\n",
       "        <td>0.53</td>\n",
       "        <td>7.3</td>\n",
       "        <td>9.4</td>\n",
       "        <td>0.78</td>\n",
       "        <td>1.3</td>\n",
       "        <td>6.3</td>\n",
       "        <td>7.6</td>\n",
       "        <td>7.2</td>\n",
       "        <td>1.7</td>\n",
       "        <td>1.1</td>\n",
       "        <td>3</td>\n",
       "        <td>1.7</td>\n",
       "        <td>28.4</td>\n",
       "        <td>Lebron James</td>\n",
       "        <td>Regular Season</td>\n",
       "    </tr>\n",
       "</table>"
      ],
      "text/plain": [
       "[(13.0, '2008-09', 24, 'CLE', 'NBA', 'SF', 81, 81, 37.7, 9.7, 19.9, 0.49, 1.6, 4.7, 0.34, 8.1, 15.2, 0.535, 0.53, 7.3, 9.4, 0.78, 1.3, 6.3, 7.6, 7.2, 1.7, 1.1, 3, 1.7, 28.4, 'Lebron James', 'Regular Season')]"
      ]
     },
     "execution_count": 15,
     "metadata": {},
     "output_type": "execute_result"
    }
   ],
   "source": [
    "%%sql\n",
    "/*Find Lebron James highest box plus-minus(BPM)\n",
    "and compare it to his stats*/\n",
    "\n",
    "SELECT ADS.BPM,PGS.* FROM per_game_stats PGS,advanced_stats ADS \n",
    "WHERE \n",
    "    PGS.Season = ADS.Season \n",
    "    AND PGS.Player = ADS.Player\n",
    "    AND PGS.RSorPO = ADS.RSorPO\n",
    "    AND ADS.BPM = (\n",
    "                   SELECT MAX(BPM) FROM advanced_stats\n",
    "                   WHERE Player = 'Lebron James' AND RSorPO = 'Regular Season');"
   ]
  },
  {
   "cell_type": "code",
   "execution_count": 16,
   "id": "8c5db77f",
   "metadata": {},
   "outputs": [
    {
     "name": "stdout",
     "output_type": "stream",
     "text": [
      " * sqlite:///nbastats.db\n",
      "Done.\n"
     ]
    },
    {
     "data": {
      "text/html": [
       "<table>\n",
       "    <tr>\n",
       "        <th>Season</th>\n",
       "        <th>Player</th>\n",
       "        <th>Salary</th>\n",
       "        <th>BPM</th>\n",
       "    </tr>\n",
       "    <tr>\n",
       "        <td>2008-09</td>\n",
       "        <td>Lebron James</td>\n",
       "        <td>$14410581</td>\n",
       "        <td>13.0</td>\n",
       "    </tr>\n",
       "</table>"
      ],
      "text/plain": [
       "[('2008-09', 'Lebron James', '$14410581', 13.0)]"
      ]
     },
     "execution_count": 16,
     "metadata": {},
     "output_type": "execute_result"
    }
   ],
   "source": [
    "%%sql\n",
    "/*How much did Lebron James make at his highest BPM using JOIN*/\n",
    "\n",
    "SELECT S.Season,S.Player, S.Salary, ADS.BPM FROM salaries S JOIN advanced_stats ADS\n",
    "ON S.Season = ADS.Season AND ADS.Player = S.Player\n",
    "WHERE ADS.RSorPO = 'Regular Season'\n",
    "      AND ADS.BPM = (\n",
    "          SELECT MAX(BPM) FROM advanced_stats WHERE Player = 'Lebron James' \n",
    "          AND RSorPO = 'Regular Season');"
   ]
  }
 ],
 "metadata": {
  "kernelspec": {
   "display_name": "Python 3 (ipykernel)",
   "language": "python",
   "name": "python3"
  },
  "language_info": {
   "codemirror_mode": {
    "name": "ipython",
    "version": 3
   },
   "file_extension": ".py",
   "mimetype": "text/x-python",
   "name": "python",
   "nbconvert_exporter": "python",
   "pygments_lexer": "ipython3",
   "version": "3.9.7"
  }
 },
 "nbformat": 4,
 "nbformat_minor": 5
}
